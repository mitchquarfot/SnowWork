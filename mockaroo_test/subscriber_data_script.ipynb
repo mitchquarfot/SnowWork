{
 "cells": [
  {
   "cell_type": "code",
   "execution_count": 1,
   "metadata": {},
   "outputs": [],
   "source": [
    "import requests\n",
    "import snowflake.connector\n",
    "from datetime import datetime\n",
    "import os\n",
    "\n",
    "# Define your Mockaroo API key and schema name\n",
    "api_key = '647272f0'  # Replace with your actual Mockaroo API key\n",
    "schema_name = 'subscriber_highlevel'  # Replace with your actual schema name\n",
    "\n",
    "# Snowflake connection parameters (update with your details)\n",
    "conn = snowflake.connector.connect(\n",
    "    connection_name = 'DEMO_MQUARFOT',\n",
    "    warehouse = 'mitch_devwork',\n",
    "    database = 'ad_data',\n",
    "    schema = 'demo_data'\n",
    ")\n",
    "\n",
    "# Name of the stage and table in Snowflake\n",
    "stage_name = 'MOCKAROO_STAGE'\n",
    "table_name = 'MOCKAROO_DATA'\n"
   ]
  },
  {
   "cell_type": "code",
   "execution_count": 2,
   "metadata": {},
   "outputs": [],
   "source": [
    "# Function to generate CSV data and upload to Snowflake stage\n",
    "def generate_and_upload_csv():\n",
    "    # Construct the URL to call the existing schema (with .csv extension)\n",
    "    url = f'https://api.mockaroo.com/api/generate.csv?key={api_key}&schema={schema_name}'\n",
    "\n",
    "    # Specify the number of records you want to generate\n",
    "    params = {\n",
    "        'count': 1000  # Adjust this number to the amount of data records you need\n",
    "    }\n",
    "\n",
    "    # Send the GET request to generate data from your saved schema\n",
    "    response = requests.get(url, params=params)\n",
    "\n",
    "    # Check if the request was successful and proceed\n",
    "    if response.status_code == 200:\n",
    "        # Create a filename with the current timestamp for the CSV\n",
    "        timestamp = datetime.now().strftime('%Y%m%d_%H%M%S')\n",
    "        file_name = f'mockaroo_data_{timestamp}.csv'\n",
    "        local_file_path = f'/tmp/{file_name}'\n",
    "\n",
    "        # Write the content of the response (CSV data) to a temporary file\n",
    "        with open(local_file_path, 'wb') as file:\n",
    "            file.write(response.content)\n",
    "        \n",
    "        print(f'CSV file successfully created locally: {local_file_path}')\n",
    "\n",
    "        # Upload the CSV file to a Snowflake stage\n",
    "        upload_to_snowflake_stage(local_file_path, file_name)\n",
    "    else:\n",
    "        print(f\"Failed to retrieve data. Status code: {response.status_code}, Message: {response.text}\")"
   ]
  },
  {
   "cell_type": "code",
   "execution_count": 3,
   "metadata": {},
   "outputs": [],
   "source": [
    "# Function to upload CSV to Snowflake stage\n",
    "def upload_to_snowflake_stage(local_file_path, file_name):\n",
    "    # Create a stage if it doesn't exist\n",
    "    conn.cursor().execute(f'CREATE STAGE IF NOT EXISTS {stage_name}')\n",
    "    print(f'Stage {stage_name} created or already exists.')\n",
    "\n",
    "    # Upload the file to the stage\n",
    "    conn.cursor().execute(f'PUT file://{local_file_path} @{stage_name}/{file_name}')\n",
    "    print(f'File {file_name} uploaded to stage {stage_name}.')\n",
    "\n",
    "    # Create a table if it doesn't exist and load the data\n",
    "    load_data_to_snowflake_table(file_name)"
   ]
  },
  {
   "cell_type": "code",
   "execution_count": 4,
   "metadata": {},
   "outputs": [],
   "source": [
    "# Function to create a Snowflake table and load data from the stage\n",
    "def load_data_to_snowflake_table(file_name):\n",
    "    # Define the SQL to create a table based on your schema (customize the columns as needed)\n",
    "    create_table_sql = f'''\n",
    "    CREATE OR REPLACE TABLE {table_name} (\n",
    "        subscriber_id varchar,\n",
    "        email varchar,\n",
    "        ip_address varchar,\n",
    "        home_address varchar,\n",
    "        city varchar,\n",
    "        state varchar,\n",
    "        zipcode string,\n",
    "        avg_monthly_hours float,\n",
    "        subscription_start_date date,\n",
    "        subscription_end_date date\n",
    "    );\n",
    "    '''\n",
    "    conn.cursor().execute(create_table_sql)\n",
    "    print(f'Table {table_name} created or replaced.')\n",
    "\n",
    "    # Load data from the stage into the table\n",
    "    copy_into_sql = f'''\n",
    "    COPY INTO {table_name}\n",
    "    FROM @{stage_name}/{file_name}\n",
    "    FILE_FORMAT = (TYPE = 'CSV' FIELD_OPTIONALLY_ENCLOSED_BY = '\"' SKIP_HEADER = 1);\n",
    "    '''\n",
    "    conn.cursor().execute(copy_into_sql)\n",
    "    print(f'Data loaded into {table_name} from file {file_name}.')\n",
    "\n",
    "    # Optionally, remove the file from the stage after loading\n",
    "    conn.cursor().execute(f'REMOVE @{stage_name}/{file_name}')\n",
    "    print(f'File {file_name} removed from stage {stage_name}.')"
   ]
  },
  {
   "cell_type": "code",
   "execution_count": 5,
   "metadata": {},
   "outputs": [
    {
     "name": "stdout",
     "output_type": "stream",
     "text": [
      "CSV file successfully created locally: /tmp/mockaroo_data_20241014_125840.csv\n",
      "Stage MOCKAROO_STAGE created or already exists.\n",
      "File mockaroo_data_20241014_125840.csv uploaded to stage MOCKAROO_STAGE.\n",
      "Table MOCKAROO_DATA created or replaced.\n",
      "Data loaded into MOCKAROO_DATA from file mockaroo_data_20241014_125840.csv.\n",
      "File mockaroo_data_20241014_125840.csv removed from stage MOCKAROO_STAGE.\n"
     ]
    }
   ],
   "source": [
    "# Call the function to generate the CSV and upload it to Snowflake\n",
    "generate_and_upload_csv()"
   ]
  },
  {
   "cell_type": "code",
   "execution_count": 6,
   "metadata": {},
   "outputs": [],
   "source": [
    "# Close the Snowflake connection\n",
    "conn.close()"
   ]
  }
 ],
 "metadata": {
  "kernelspec": {
   "display_name": "snowpark",
   "language": "python",
   "name": "python3"
  },
  "language_info": {
   "codemirror_mode": {
    "name": "ipython",
    "version": 3
   },
   "file_extension": ".py",
   "mimetype": "text/x-python",
   "name": "python",
   "nbconvert_exporter": "python",
   "pygments_lexer": "ipython3",
   "version": "3.8.19"
  }
 },
 "nbformat": 4,
 "nbformat_minor": 2
}
